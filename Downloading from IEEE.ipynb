{
 "cells": [
  {
   "cell_type": "code",
   "execution_count": 6,
   "metadata": {},
   "outputs": [],
   "source": [
    "import pandas as pd\n",
    "from bs4 import BeautifulSoup\n",
    "import requests\n",
    "import bibtexparser\n",
    "import json\n",
    "\n",
    "ieeeSearchAPI = \"https://ieeexplore.ieee.org/rest/search\"\n",
    "ieeeExportAPI = \"https://ieeexplore.ieee.org/xpl/downloadCitations\""
   ]
  },
  {
   "cell_type": "markdown",
   "metadata": {},
   "source": [
    "## Downloading from IEEE APIs"
   ]
  },
  {
   "cell_type": "code",
   "execution_count": 44,
   "metadata": {},
   "outputs": [],
   "source": [
    "searchString = \"(\\\"Index Terms\\\":ubiquitous computing OR \\\"Index Terms\\\":pervasive computing) AND (\\\"Index Terms\\\":Internet of things OR \\\"Index Terms\\\":mobile computing OR \\\"Index Terms\\\":cloud computing OR \\\"Index Terms\\\":context-awareness OR \\\"Index Terms\\\":wearable OR \\\"Index Terms\\\":activity recognition OR \\\"Index Terms\\\":artificial intelligence OR \\\"Index Terms\\\":security)\""
   ]
  },
  {
   "cell_type": "code",
   "execution_count": 35,
   "metadata": {},
   "outputs": [
    {
     "name": "stdout",
     "output_type": "stream",
     "text": [
      "100\n",
      "100\n",
      "100\n",
      "100\n"
     ]
    }
   ],
   "source": [
    "targetQuantity = 100\n",
    "currentNumber = 0\n",
    "\n",
    "dic = {'title':[], 'journal':[], 'year':[], 'abstract':[]}\n",
    "articleIds = []\n",
    "pageNum = 1\n",
    "while currentNumber < targetQuantity:\n",
    "    #GET ID's\n",
    "    rAPI = requests.post(ieeeSearchAPI, json={\"queryText\":searchString, \"returnType\":\"SEARCH\", \"rowsPerPage\":\"100\", \"pageNumber\":pageNum}, headers={'User-Agent': 'Mozilla/5.0 (X11; Ubuntu; Linux x86_64; rv:70.0) Gecko/20100101 Firefox/70.0','Origin': 'https://ieeexplore.ieee.org'})\n",
    "    while(rAPI.status_code != 200):\n",
    "        rAPI = requests.post(ieeeSearchAPI, json={\"queryText\":searchString, \"returnType\":\"SEARCH\", \"rowsPerPage\":\"100\", \"pageNumber\":pageNum}, headers={'User-Agent': 'Mozilla/5.0 (X11; Ubuntu; Linux x86_64; rv:70.0) Gecko/20100101 Firefox/70.0','Origin': 'https://ieeexplore.ieee.org'})\n",
    "    \n",
    "    #PUT IN LIST\n",
    "    try:\n",
    "        parsed_json = (json.loads(rAPI.content.decode()))\n",
    "    except:\n",
    "        print(pageNum)\n",
    "        print(rAPI.content)\n",
    "    articleIds = articleIds + [x[\"articleNumber\"] for x in parsed_json[\"records\"]]\n",
    "    \n",
    "    #NEXT PAGE\n",
    "    pageNum = pageNum + 1\n",
    "    currentNumber = currentNumber + 100\n",
    "\n",
    "    \n",
    "count = 0\n",
    "while count < targetQuantity:\n",
    "    # GET BIBTEX\n",
    "    if(count+100 > targetQuantity-1):\n",
    "        articleString = ','.join(articleIds[count:targetQuantity])\n",
    "    else:  \n",
    "        articleString = ','.join(articleIds[count:count+100])\n",
    "    count = count + 100\n",
    "    rAPI = requests.post(ieeeExportAPI, data={\"recordIds\":articleString, \"download-format\":\"download-bibtex\", \"citations-format\":\"citation-abstract\"}, headers={'User-Agent': 'Mozilla/5.0 (X11; Ubuntu; Linux x86_64; rv:70.0) Gecko/20100101 Firefox/70.0','Origin': 'https://ieeexplore.ieee.org'})\n",
    "\n",
    "    # CLEAN BIBTEX\n",
    "    dirty_bibdata = rAPI.content.decode()\n",
    "    dirty_bibdata = dirty_bibdata.replace(\"<br>@\",\"\\n@\")\n",
    "    dirty_bibdata = dirty_bibdata.replace(\"<br>\",\"\")\n",
    "    #print(dirty_bibdata)\n",
    "    bibdata = bibtexparser.loads(dirty_bibdata)\n",
    "    \n",
    "    # BIBTEXT PARSE\n",
    "    for bib_id in bibdata.entries:\n",
    "        try:\n",
    "            dic['title'].append(bib_id[\"title\"])\n",
    "        except(KeyError):\n",
    "            dic['title'].append(\"\")\n",
    "        try:\n",
    "            dic['journal'].append(bib_id['booktitle'])\n",
    "        except(KeyError):\n",
    "            dic['journal'].append(\"\")\n",
    "        try:\n",
    "            dic['year'].append(bib_id['year'])\n",
    "        except(KeyError):\n",
    "            dic['year'].append(\"\")    \n",
    "        try:\n",
    "            dic['abstract'].append(bib_id['abstract'])\n",
    "        except(KeyError):\n",
    "            dic['abstract'].append(\"\")\n",
    "    \n",
    "print(len(dic['title']))\n",
    "print(len(dic['journal']))\n",
    "print(len(dic['abstract']))\n",
    "print(len(dic['year']))\n",
    "\n",
    "# PUT IN CSV\n",
    "df = pd.DataFrame.from_dict(dic)\n",
    "df.to_csv(\"genericIEEE.csv\",index=False,sep=\",\")\n"
   ]
  },
  {
   "cell_type": "markdown",
   "metadata": {},
   "source": [
    "## GETTING BIBTEX FILES FOR START"
   ]
  },
  {
   "cell_type": "code",
   "execution_count": 45,
   "metadata": {},
   "outputs": [],
   "source": [
    "targetQuantity = 100\n",
    "currentNumber = 0\n",
    "\n",
    "dic = {'title':[], 'journal':[], 'year':[], 'abstract':[]}\n",
    "articleIds = []\n",
    "pageNum = 1\n",
    "while currentNumber < targetQuantity:\n",
    "    #GET ID's\n",
    "    rAPI = requests.post(ieeeSearchAPI, json={\"queryText\":searchString, \"ranges\":[\"2019_2019_Year\"],\"returnType\":\"SEARCH\", \"rowsPerPage\":\"100\", \"pageNumber\":pageNum}, headers={'User-Agent': 'Mozilla/5.0 (X11; Ubuntu; Linux x86_64; rv:70.0) Gecko/20100101 Firefox/70.0','Origin': 'https://ieeexplore.ieee.org'})\n",
    "    while(rAPI.status_code != 200):\n",
    "        print(rAPI.status_code)\n",
    "        rAPI = requests.post(ieeeSearchAPI, json={\"queryText\":searchString,\"ranges\":[\"2019_2019_Year\"], \"returnType\":\"SEARCH\", \"rowsPerPage\":\"100\", \"pageNumber\":pageNum}, headers={'User-Agent': 'Mozilla/5.0 (X11; Ubuntu; Linux x86_64; rv:70.0) Gecko/20100101 Firefox/70.0','Origin': 'https://ieeexplore.ieee.org'})\n",
    "    \n",
    "    #PUT IN LIST\n",
    "    try:\n",
    "        parsed_json = (json.loads(rAPI.content.decode()))\n",
    "    except:\n",
    "        print(pageNum)\n",
    "        print(rAPI.content)\n",
    "    articleIds = articleIds + [x[\"articleNumber\"] for x in parsed_json[\"records\"]]\n",
    "    \n",
    "    #NEXT PAGE\n",
    "    pageNum = pageNum + 1\n",
    "    currentNumber = currentNumber + 100\n",
    "\n",
    "    \n",
    "count = 0\n",
    "f= open(\"ieee.bib\",\"w\")\n",
    "while count < targetQuantity:\n",
    "    # GET BIBTEX\n",
    "    if(count+100 > targetQuantity-1):\n",
    "        articleString = ','.join(articleIds[count:targetQuantity])\n",
    "    else:  \n",
    "        articleString = ','.join(articleIds[count:count+100])\n",
    "    count = count + 100\n",
    "    rAPI = requests.post(ieeeExportAPI, data={\"recordIds\":articleString, \"download-format\":\"download-bibtex\", \"citations-format\":\"citation-abstract\"}, headers={'User-Agent': 'Mozilla/5.0 (X11; Ubuntu; Linux x86_64; rv:70.0) Gecko/20100101 Firefox/70.0','Origin': 'https://ieeexplore.ieee.org'})\n",
    "\n",
    "    # CLEAN BIBTEX\n",
    "    dirty_bibdata = rAPI.content.decode()\n",
    "    dirty_bibdata = dirty_bibdata.replace(\"<br>@\",\"\\n@\")\n",
    "    dirty_bibdata = dirty_bibdata.replace(\"<br>\",\"\")\n",
    "    #print(dirty_bibdata)\n",
    "    bibdata = bibtexparser.loads(dirty_bibdata)\n",
    "    \n",
    "    f.write(dirty_bibdata) # WRITE\n",
    "\n",
    "f.close()\n",
    "    \n",
    "\n",
    "\n"
   ]
  },
  {
   "cell_type": "code",
   "execution_count": null,
   "metadata": {},
   "outputs": [],
   "source": []
  }
 ],
 "metadata": {
  "kernelspec": {
   "display_name": "Python 3",
   "language": "python",
   "name": "python3"
  },
  "language_info": {
   "codemirror_mode": {
    "name": "ipython",
    "version": 3
   },
   "file_extension": ".py",
   "mimetype": "text/x-python",
   "name": "python",
   "nbconvert_exporter": "python",
   "pygments_lexer": "ipython3",
   "version": "3.6.9"
  }
 },
 "nbformat": 4,
 "nbformat_minor": 2
}
