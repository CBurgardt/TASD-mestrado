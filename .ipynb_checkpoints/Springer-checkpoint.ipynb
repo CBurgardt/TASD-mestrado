{
 "cells": [
  {
   "cell_type": "markdown",
   "metadata": {},
   "source": [
    "# Tratando artigos do Springer com Web Scraping"
   ]
  },
  {
   "cell_type": "code",
   "execution_count": 41,
   "metadata": {},
   "outputs": [],
   "source": [
    "import pandas as pd\n",
    "import requests\n",
    "from bs4 import BeautifulSoup \n",
    "import time"
   ]
  },
  {
   "cell_type": "code",
   "execution_count": 42,
   "metadata": {},
   "outputs": [
    {
     "data": {
      "text/plain": [
       "'00:18:33'"
      ]
     },
     "execution_count": 42,
     "metadata": {},
     "output_type": "execute_result"
    }
   ],
   "source": [
    "df = pd.read_csv(\"Springer.csv\")\n",
    "\n",
    "start_time = time.time()\n",
    "\n",
    "keywordsFound = []\n",
    "for URL in df[\"URL\"]:\n",
    "    r = requests.get(URL) \n",
    "    soup = BeautifulSoup(r.content, 'html5lib') \n",
    "    s_keywords = soup.find_all(\"span\", {\"class\": \"Keyword\"})\n",
    "    keywordsInURL = [x.text for x in s_keywords]\n",
    "    keywordsFound.append(\",\".join(keywordsInURL))\n",
    "\n",
    "\n",
    "elapsed_time = time.time() - start_time\n",
    "time.strftime(\"%H:%M:%S\", time.gmtime(elapsed_time))"
   ]
  },
  {
   "cell_type": "code",
   "execution_count": 44,
   "metadata": {},
   "outputs": [
    {
     "name": "stdout",
     "output_type": "stream",
     "text": [
      "Ubiquitous computing ,Personal area networks ,Bluetooth ,Benchmarking \n"
     ]
    }
   ],
   "source": [
    "print(keywordsFound[0])"
   ]
  },
  {
   "cell_type": "code",
   "execution_count": 48,
   "metadata": {},
   "outputs": [],
   "source": [
    "df[\"keywords\"] = keywordsFound #Adicionando a nova coluna\n",
    "df.to_csv(\"newSpringer.csv\")"
   ]
  },
  {
   "cell_type": "code",
   "execution_count": 47,
   "metadata": {},
   "outputs": [
    {
     "data": {
      "text/plain": [
       "0      Ubiquitous computing ,Personal area networks ,...\n",
       "1      Bayeisan probability ,Motion estimation ,Motio...\n",
       "2      NUI/NUX ,Human-computer interaction ,Indoor lo...\n",
       "3      Indoor location ,UAV ,Beacon ,Drone ,Trilatera...\n",
       "4      Ambient agents ,Ubiquitous computing ,Multi-ag...\n",
       "                             ...                        \n",
       "995              Agents ,CVL ,IoT ,Variability modeling \n",
       "996    Discrete event simulation ,Process improvement...\n",
       "997    Ad hoc networks ,Smart cities ,Collaboration ,...\n",
       "998    Automotive data ,Automotive software testing ,...\n",
       "999       Life-logging ,Infographic ,Application design \n",
       "Name: keywords, Length: 1000, dtype: object"
      ]
     },
     "execution_count": 47,
     "metadata": {},
     "output_type": "execute_result"
    }
   ],
   "source": []
  },
  {
   "cell_type": "code",
   "execution_count": null,
   "metadata": {},
   "outputs": [],
   "source": []
  }
 ],
 "metadata": {
  "kernelspec": {
   "display_name": "Python 3",
   "language": "python",
   "name": "python3"
  },
  "language_info": {
   "codemirror_mode": {
    "name": "ipython",
    "version": 3
   },
   "file_extension": ".py",
   "mimetype": "text/x-python",
   "name": "python",
   "nbconvert_exporter": "python",
   "pygments_lexer": "ipython3",
   "version": "3.6.9"
  }
 },
 "nbformat": 4,
 "nbformat_minor": 2
}
