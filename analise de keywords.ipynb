{
 "cells": [
  {
   "cell_type": "code",
   "execution_count": null,
   "metadata": {},
   "outputs": [],
   "source": [
    "import pandas as pd\n",
    "import collections\n",
    "import matplotlib.pyplot as plt"
   ]
  },
  {
   "cell_type": "markdown",
   "metadata": {},
   "source": [
    "# Análise de Keywords"
   ]
  },
  {
   "cell_type": "code",
   "execution_count": null,
   "metadata": {},
   "outputs": [],
   "source": [
    "acm = pd.read_csv(\"acmdl.csv\")\n",
    "ieee = pd.read_csv(\"ieee.csv\", \";\", error_bad_lines=False)\n",
    "elsevier = pd.read_csv(\"elsevier.csv\")\n",
    "springer = pd.read_csv(\"newSpringer.csv\")"
   ]
  },
  {
   "cell_type": "code",
   "execution_count": null,
   "metadata": {},
   "outputs": [],
   "source": [
    "def createSeries(csv):\n",
    "    dataSeries = pd.Series([])\n",
    "    x =  0\n",
    "    for i in csv.keywords:\n",
    "        x = x + 1\n",
    "        keywordsFound = str(i).upper().split(\",\")\n",
    "        newKeywords = []\n",
    "        for key in keywordsFound:\n",
    "            key = key.strip()\n",
    "            if (key.lower() == \"iot\" or key.lower() == \"internet of things (iot)\"):\n",
    "                newKeywords.append(\"INTERNET OF THINGS\")\n",
    "            elif (key.lower() == \"smart city\" or key.lower() == \"smart cities\"):\n",
    "                newKeywords.append(\"SMART CITIES\")\n",
    "            elif (key.lower() == \"cloud\" or key.lower() == \"cloud computing\"):\n",
    "                newKeywords.append(\"CLOUD COMPUTING\")\n",
    "            elif (key.lower() == \"context\" or key.lower() == \"context aware\" or\n",
    "                  key.lower() == \"context-aware\" or key.lower() == \"context-awareness\" or\n",
    "                  key.lower() == \"context awareness\" or key.lower() == \"context aware computing\"\n",
    "                  or key.lower() == \"context-aware computing\"):\n",
    "                newKeywords.append(\"CONTEXT-AWARENESS\")\n",
    "            elif (key.lower() == \"mobile\" or key.lower() == \"mobile computing\" or\n",
    "                  key.lower() == \"mobile application\" or key.lower() == \"mobile sensing\" or\n",
    "                  key.lower() == \"smartphone\" or key.lower() == \"mobile devices\" or\n",
    "                  key.lower() == \"smartphones\" or key.lower() == \"android\" or\n",
    "                  key.lower() == \"wearable\" or key.lower() == \"wearables\" or \n",
    "                  key.lower() == \"wearable device\" or key.lower() == \"wearable computing\"):\n",
    "                newKeywords.append(\"MOBILE COMPUTING\")\n",
    "            elif (key.lower() == \"wireless sensor network\" or key.lower() == \"wireless sensor networks\"\n",
    "                  or key.lower() == \"sensor\" or key.lower() == \"sensors\"):\n",
    "                newKeywords.append(\"WIRELESS SENSOR NETWORKING\")\n",
    "            elif (key != \"UBIQUITOUS COMPUTING\" and key != \"PERVASIVE COMPUTING\" and key != \"UBIQUITOUS\"):\n",
    "                newKeywords.append(key)\n",
    "        dataSeries = dataSeries.append(pd.Series(newKeywords),ignore_index=True)\n",
    "        if (x == 1000):\n",
    "            break\n",
    "    return dataSeries"
   ]
  },
  {
   "cell_type": "code",
   "execution_count": null,
   "metadata": {},
   "outputs": [],
   "source": [
    "def toFrame(dataSeries):\n",
    "    data = dataSeries.value_counts().to_frame()\n",
    "    data = data.drop(\"NAN\")\n",
    "    print(data.head())\n",
    "    return data"
   ]
  },
  {
   "cell_type": "markdown",
   "metadata": {},
   "source": [
    "### Análise ACM"
   ]
  },
  {
   "cell_type": "code",
   "execution_count": null,
   "metadata": {},
   "outputs": [],
   "source": [
    "acmDataSeries = createSeries(acm)\n",
    "acmData = toFrame(acmDataSeries)"
   ]
  },
  {
   "cell_type": "code",
   "execution_count": null,
   "metadata": {},
   "outputs": [],
   "source": [
    "acmBig = acmData.nlargest(50,0)\n",
    "acmBig"
   ]
  },
  {
   "cell_type": "code",
   "execution_count": null,
   "metadata": {},
   "outputs": [],
   "source": [
    "acmBig.plot.bar(figsize=(20,10))"
   ]
  },
  {
   "cell_type": "markdown",
   "metadata": {},
   "source": [
    "### Análise Elsevier"
   ]
  },
  {
   "cell_type": "code",
   "execution_count": null,
   "metadata": {},
   "outputs": [],
   "source": [
    "# Por criação de Series elsevier\n",
    "elsevierDataSeries = createSeries(elsevier)\n",
    "elsevierData = toFrame(elsevierDataSeries)"
   ]
  },
  {
   "cell_type": "code",
   "execution_count": null,
   "metadata": {},
   "outputs": [],
   "source": [
    "elsevierBig = elsevierData.nlargest(50,0)\n",
    "elsevierBig"
   ]
  },
  {
   "cell_type": "code",
   "execution_count": null,
   "metadata": {},
   "outputs": [],
   "source": [
    "elsevierBig.plot.bar(figsize=(20,10))"
   ]
  },
  {
   "cell_type": "markdown",
   "metadata": {},
   "source": [
    "### Análise Springer"
   ]
  },
  {
   "cell_type": "code",
   "execution_count": null,
   "metadata": {},
   "outputs": [],
   "source": [
    "# Por criação de Series springer\n",
    "springerDataSeries = createSeries(springer)\n",
    "springerData = toFrame(springerDataSeries)"
   ]
  },
  {
   "cell_type": "code",
   "execution_count": null,
   "metadata": {},
   "outputs": [],
   "source": [
    "springerBig = springerData.nlargest(50,0)\n",
    "springerBig"
   ]
  },
  {
   "cell_type": "code",
   "execution_count": null,
   "metadata": {},
   "outputs": [],
   "source": [
    "springerBig.plot.bar(figsize=(20,10))"
   ]
  },
  {
   "cell_type": "markdown",
   "metadata": {},
   "source": [
    "### Análise IEEE"
   ]
  },
  {
   "cell_type": "code",
   "execution_count": null,
   "metadata": {},
   "outputs": [],
   "source": [
    "# Por criação de Series ieee\n",
    "ieeeDataSeries = createSeries(ieee)\n",
    "ieeeData = toFrame(ieeeDataSeries)"
   ]
  },
  {
   "cell_type": "code",
   "execution_count": null,
   "metadata": {},
   "outputs": [],
   "source": [
    "ieeeBig = ieeeData.nlargest(50,0)\n",
    "ieeeBig"
   ]
  },
  {
   "cell_type": "code",
   "execution_count": null,
   "metadata": {},
   "outputs": [],
   "source": [
    "ieeeBig.plot.bar(figsize=(20,10))"
   ]
  },
  {
   "cell_type": "markdown",
   "metadata": {},
   "source": [
    "### Análise de todas as engines juntas"
   ]
  },
  {
   "cell_type": "code",
   "execution_count": null,
   "metadata": {},
   "outputs": [],
   "source": [
    "ieeeAcmDataSeries = ieeeDataSeries.append(acmDataSeries,ignore_index=True)\n",
    "ieeeAcmSpringerDataSeries = ieeeAcmDataSeries.append(springerDataSeries,ignore_index=True)\n",
    "ieeeAcmSpringerElsevierDataSeries = ieeeAcmSpringerDataSeries.append(elsevierDataSeries,ignore_index=True)\n",
    "totalData = toFrame(ieeeAcmSpringerElsevierDataSeries)"
   ]
  },
  {
   "cell_type": "code",
   "execution_count": null,
   "metadata": {},
   "outputs": [],
   "source": [
    "totalBig = totalData.nlargest(50,0)\n",
    "totalBig"
   ]
  },
  {
   "cell_type": "code",
   "execution_count": null,
   "metadata": {},
   "outputs": [],
   "source": [
    "totalBig.plot.bar(figsize=(20,10))"
   ]
  }
 ],
 "metadata": {
  "kernelspec": {
   "display_name": "Python 3",
   "language": "python",
   "name": "python3"
  },
  "language_info": {
   "codemirror_mode": {
    "name": "ipython",
    "version": 3
   },
   "file_extension": ".py",
   "mimetype": "text/x-python",
   "name": "python",
   "nbconvert_exporter": "python",
   "pygments_lexer": "ipython3",
   "version": "3.6.9"
  }
 },
 "nbformat": 4,
 "nbformat_minor": 4
}
